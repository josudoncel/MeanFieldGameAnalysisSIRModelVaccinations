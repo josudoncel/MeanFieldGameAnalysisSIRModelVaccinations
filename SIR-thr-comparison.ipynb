{
 "cells": [
  {
   "cell_type": "markdown",
   "metadata": {},
   "source": [
    "# Comparison of the threshold of the mean-field optimum and mean-field equilibrium in the SIR model with vaccinations"
   ]
  },
  {
   "cell_type": "code",
   "execution_count": 1,
   "metadata": {},
   "outputs": [],
   "source": [
    "import matplotlib.pyplot as plt\n",
    "import numpy as np\n",
    "import math\n",
    "import matplotlib.pyplot as plt"
   ]
  },
  {
   "cell_type": "markdown",
   "metadata": {},
   "source": [
    "The function to compute the mean-field equilibrium"
   ]
  },
  {
   "cell_type": "code",
   "execution_count": 2,
   "metadata": {},
   "outputs": [],
   "source": [
    "def mf_equilibrium():\n",
    "    \n",
    "    thr_mass=0; count2=0; n_loops_max=1000\n",
    "    thr_pl0=-1;\n",
    "    best_pol=np.zeros(C+1);\n",
    "\n",
    "    while (thr_mass != thr_pl0 and count2<n_loops_max):\n",
    "        \n",
    "        x_S = np.zeros(C+1); x_I = np.zeros(C+1);\n",
    "        policy = np.zeros(C+1);\n",
    "        x_S[0]=S0; x_I[0]=I0;\n",
    "        for i in range(C):\n",
    "            if i<thr_mass:\n",
    "                policy[i]=theta;\n",
    "            else:\n",
    "                policy[i]=vac_min;\n",
    "            x_S[i+1] = x_S[i]+(-gamma*x_I[i]*x_S[i] - policy[i]*x_S[i])/C;\n",
    "            x_I[i+1] = x_I[i]+(gamma*x_I[i]*x_S[i] - rho*x_I[i])/C;    \n",
    "\n",
    "        for count in range(C):\n",
    "            t_ = C - count ;\n",
    "            if c_V - vs[t_] < 0:\n",
    "                best_pol[t_-1]=theta;\n",
    "                p_s_s=1 - 1.*gamma*x_I[t_-1]/C - 1.*theta/C;\n",
    "                p_s_i=1.*gamma*x_I[t_-1]/C; \n",
    "                vs[t_-1]= theta * c_V /C + p_s_s * vs[t_] + p_s_i * vi[t_];\n",
    "            else:\n",
    "                best_pol[t_-1]=vac_min;\n",
    "                p_s_s=1 - 1.*gamma*x_I[t_-1]/C - vac_min/C;\n",
    "                p_s_i=gamma*x_I[t_-1]/C; \n",
    "                vs[t_-1]= vac_min * c_V/C + p_s_s * vs[t_] + p_s_i * vi[t_];   \n",
    "            p_i_i=1-rho/C; \n",
    "            vi[t_-1] = c_I/C + p_i_i * vi[t_];   \n",
    "         \n",
    "        thr=0;\n",
    "        count2=count2+1;\n",
    "        for i in range(C+1):\n",
    "            if vs[i]<c_V:\n",
    "                thr_pl0=i;\n",
    "                break;\n",
    "        \n",
    "        d=0.5\n",
    "        if thr_mass > thr_pl0:\n",
    "#            thr_mass = thr_pl0 + math.floor(d*(thr_mass - thr_pl0));\n",
    "            thr_mass = thr_mass - 1;\n",
    "        if thr_mass < thr_pl0:\n",
    "#            thr_mass = thr_pl0 + math.floor(d*(thr_mass - thr_pl0));\n",
    "            thr_mass = thr_mass + 1;  \n",
    "        \n",
    "#        print (thr_pl0, thr_mass, vs[0]*S0+vi[0]*I0, count2);\n",
    "    \n",
    "    if count2==n_loops_max:\n",
    "        print('MFE not found')\n",
    "    \n",
    "    return thr_pl0, vs, vi;"
   ]
  },
  {
   "cell_type": "markdown",
   "metadata": {},
   "source": [
    "The function to compute the mean-field optimum"
   ]
  },
  {
   "cell_type": "code",
   "execution_count": 5,
   "metadata": {},
   "outputs": [],
   "source": [
    "def mf_optimum():\n",
    "    my_policy=np.zeros(C+1);\n",
    "    j=0;\n",
    "    v=np.zeros(C+1);\n",
    "    x_S=np.zeros(C+1);\n",
    "    x_I=np.zeros(C+1);\n",
    "\n",
    "    for t_critical in range(C+1):\n",
    "        x_S[0]=S0; x_I[0]=I0;\n",
    "        for i in range(C):\n",
    "            if i<t_critical:\n",
    "                myvac=theta;\n",
    "                my_policy[i]=theta;\n",
    "            else:\n",
    "                myvac=vac_min;\n",
    "                my_policy[i]=vac_min;\n",
    "            x_S[i+1] = x_S[i]+(-gamma*x_I[i]*x_S[i] - myvac*x_S[i])/C;\n",
    "            x_I[i+1] = x_I[i]+(gamma*x_I[i]*x_S[i] - rho*x_I[i])/C;    \n",
    "\n",
    "        v[j]= sum(1.*c_I*x_I/C+1.*c_V*x_S*my_policy/C);    \n",
    "        j = j+1;\n",
    "\n",
    "    mymin=v[0];\n",
    "    mypos=0;\n",
    "    for i in range(C+1):\n",
    "        if (v[i]<mymin):\n",
    "            mymin = v[i];\n",
    "            mypos = i;\n",
    "\n",
    "    return mypos, mymin; \n",
    "    "
   ]
  },
  {
   "cell_type": "markdown",
   "metadata": {},
   "source": [
    "System parameters setting and computation of thresholds"
   ]
  },
  {
   "cell_type": "code",
   "execution_count": 12,
   "metadata": {
    "scrolled": false
   },
   "outputs": [
    {
     "data": {
      "text/plain": [
       "Text(0, 0.5, 'Jump time')"
      ]
     },
     "execution_count": 12,
     "metadata": {},
     "output_type": "execute_result"
    },
    {
     "data": {
      "image/png": "[encoded data removed]",
      "text/plain": [
       "<Figure size 432x288 with 1 Axes>"
      ]
     },
     "metadata": {},
     "output_type": "display_data"
    }
   ],
   "source": [
    "# system parameters\n",
    "gamma = 73.0     # infection rate\n",
    "rho = 36.5       # recovery rate\n",
    "vac_min = 0.0    # minimum vaccination rate\n",
    "theta = 10.0     # maximum vaccination rate\n",
    "T = 1            # time horizon\n",
    "\n",
    "# costs\n",
    "c_V = 0.5       # cost per unit time of vaccination\n",
    "c_I = 36.5      # cost per unit time of infection\n",
    "\n",
    "# the uniformization constant (higher than gamma, rho and theta)\n",
    "C=T*3000;\n",
    "v_t=T*np.arange(0,1+1/C,1/C);\n",
    "\n",
    "#other stuff\n",
    "x_S = np.zeros(C+1); x_I = np.zeros(C+1)\n",
    "v = np.zeros(C+1)\n",
    "vs = np.zeros(C+1); vi = np.zeros(C+1)\n",
    "\n",
    "#initial conditions\n",
    "S0=0.4;\n",
    "I0=0.4;\n",
    "\n",
    "j=0;\n",
    "#t_opt=np.zeros(3)\n",
    "#t_eq=np.zeros(3)\n",
    "#v_cV=np.arange(0.1,1.01,0.4)\n",
    "t_opt=np.zeros(50)\n",
    "t_eq=np.zeros(50)\n",
    "v_cV=np.arange(0.01,1.01,0.02)\n",
    "\n",
    "#np.array([0.2, 0.4, 0.6, 0.8, 1])\n",
    "for c_V in v_cV:\n",
    "    t_opt[j],cost_opt=mf_optimum()\n",
    "    t_eq[j],vs,vi=mf_equilibrium()\n",
    "    j=j+1\n",
    "    \n",
    "plt.plot(v_cV,t_opt/C,'k',label='OPT')\n",
    "plt.plot(v_cV,t_eq/C,'--k',label='MFE')\n",
    "plt.legend()#(fancybox=True, framealpha=1, shadow=True, borderpad=1)\n",
    "plt.xlabel('Vaccination cost')\n",
    "plt.ylabel('Jump time')\n",
    "#plt.savefig('jumptimecomp.pdf')\n",
    "#plt.savefig('jumptimecomp.jpg')\n",
    "#fig\n"
   ]
  },
  {
   "cell_type": "code",
   "execution_count": null,
   "metadata": {},
   "outputs": [],
   "source": []
  }
 ],
 "metadata": {
  "kernelspec": {
   "display_name": "Python 3",
   "language": "python",
   "name": "python3"
  },
  "language_info": {
   "codemirror_mode": {
    "name": "ipython",
    "version": 3
   },
   "file_extension": ".py",
   "mimetype": "text/x-python",
   "name": "python",
   "nbconvert_exporter": "python",
   "pygments_lexer": "ipython3",
   "version": "3.6.8"
  }
 },
 "nbformat": 4,
 "nbformat_minor": 2
}
