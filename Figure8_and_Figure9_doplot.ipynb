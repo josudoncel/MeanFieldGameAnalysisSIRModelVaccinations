{
 "cells": [
  {
   "cell_type": "markdown",
   "metadata": {},
   "source": [
    "# Figure 8 and Figure 9: Ratio between the cost of the equilibrium and of the global optimum for different values of initial states"
   ]
  },
  {
   "cell_type": "code",
   "execution_count": 1,
   "metadata": {},
   "outputs": [],
   "source": [
    "import matplotlib.pyplot as plt\n",
    "import numpy as np\n",
    "import scipy.io\n",
    "from mpl_toolkits.mplot3d import Axes3D\n",
    "from mfg_computation import Parameters, mf_equilibrium, mf_optimum, get_equilibrium_n_players, get_globaloptimum_n_players"
   ]
  },
  {
   "cell_type": "code",
   "execution_count": 16,
   "metadata": {},
   "outputs": [],
   "source": [
    "def compute_N_poa(N):\n",
    "    eq_cost = []; gopt_cost = []\n",
    "    for s0 in range(1,N):\n",
    "        eq_cost_v = []; gopt_cost_v = []\n",
    "        for i0 in range(1,N):\n",
    "            #print('computing for (s,i)=',s0,i0,end='...')\n",
    "            if N-s0-i0>0: \n",
    "                I0=i0/N; S0=s0/N\n",
    "                bestpol, Js, Ji = get_equilibrium_n_players(N)\n",
    "                val_eq_cost = Js[0,int(S0*N),int(I0*N)]*S0+Ji[0,int(S0*N),int(I0*N)]*I0\n",
    "                #print('eq done',end='...')\n",
    "                bestpol, J = get_globaloptimum_n_players(N)\n",
    "                val_opt_cost = J[int(S0*N),int(I0*N),0]\n",
    "                #print('globalopt done')\n",
    "            else:\n",
    "                val_eq_cost = 0\n",
    "                val_opt_cost = -1\n",
    "            eq_cost_v.append(val_eq_cost)\n",
    "            gopt_cost_v.append(val_opt_cost)\n",
    "        eq_cost.append(eq_cost_v); \n",
    "        gopt_cost.append(gopt_cost_v)\n",
    "    \n",
    "    mat_eq_cost=np.array([np.array(xi) for xi in eq_cost])\n",
    "    mat_opt_cost=np.array([np.array(xi) for xi in gopt_cost])\n",
    "    poa_cost = mat_eq_cost / mat_opt_cost\n",
    "    \n",
    "    np.save('data/poa_cost_N{}.npy'.format(N),poa_cost)\n",
    "    \n",
    "\n",
    "def get_N_poa(N): \n",
    "    poa_cost = np.load('data/poa_cost_N{}.npy'.format(N))\n",
    "    return poa_cost\n",
    "\n",
    "def compute_mf_poa(N, C = 1000):\n",
    "    PARAMS = Parameters() # default parameters from paper\n",
    "    mfe_cost = []; mfopt_cost = []\n",
    "    for s0 in range(1,N):\n",
    "        mfe_cost_v = []; mfopt_cost_v = []\n",
    "        for i0 in range(1,N):\n",
    "            #print('computing for (s,i)=',s0,i0,end='...')\n",
    "            if N-s0-i0>0: \n",
    "                I0=i0/N; S0=s0/N\n",
    "                val_mfe_cost, t_mfe = mf_equilibrium(PARAMS, S0, I0, C)\n",
    "                #print('eq done',end='...')\n",
    "                val_mfopt_cost, t_mfopt = mf_optimum(PARAMS, S0, I0, C)\n",
    "                #print('globalopt done')\n",
    "            else:\n",
    "                val_mfe_cost = 0\n",
    "                val_mfopt_cost = -1\n",
    "            mfe_cost_v.append(val_mfe_cost)\n",
    "            mfopt_cost_v.append(val_mfopt_cost)\n",
    "        mfe_cost.append(mfe_cost_v); \n",
    "        mfopt_cost.append(mfopt_cost_v)\n",
    "    \n",
    "    mat_mfe_cost=np.array([np.array(xi) for xi in mfe_cost])\n",
    "    mat_mfopt_cost=np.array([np.array(xi) for xi in mfopt_cost])\n",
    "    \n",
    "    np.save('data/poa_cost_mf.npy',mat_mfe_cost/mat_mfopt_cost)\n",
    "    #return mat_mfe_cost, mat_mfopt_cost\n",
    "    \n",
    "def get_mf_poa(N):\n",
    "    mat_mfe_cost = np.load('data/equi_mf_cost_N{}.npy'.format(N))\n",
    "    mat_mfopt_cost = np.load('data/globalopt_mf_cost_N{}.npy'.format(N))\n",
    "    return replace_zeros_by_nan(mat_mfe_cost)/replace_zeros_by_nan(mat_mfopt_cost)\n",
    "    #mf_equ = np.load('data/equi_mf.npy')\n",
    "    #mf_opt = np.load('data/globalopt_mf.npy')\n",
    "    #return replace_zeros_by_nan(mf_equ)/replace_zeros_by_nan(mf_opt)\n",
    "\n",
    "def replace_zeros_by_nan(array):\n",
    "    new_array = np.ones((len(array)+1,len(array)+1))\n",
    "    for i in range(len(array)):\n",
    "        for j in range(len(array[0])):\n",
    "            if array[i,j] == 0: \n",
    "                new_array[1+i,1+j] = np.nan\n",
    "            else:\n",
    "                #print(array[i,j])\n",
    "                new_array[1+i,1+j] = array[i,j]\n",
    "    return new_array \n",
    "\n",
    "def mf_equ_opt(N):\n",
    "    mf_equ = np.load('data/equi_mf.npy'.format(N))\n",
    "    mf_opt = np.load('data/globalopt_mf.npy'.format(N))\n",
    "    return replace_zeros_by_nan(mf_equ), replace_zeros_by_nan(mf_opt)\n",
    "\n",
    "def mf_poa(N):\n",
    "    mf_equ,mf_opt = mf_equ_opt(N)\n",
    "    return replace_zeros_by_nan(mf_equ)/replace_zeros_by_nan(mf_opt)\n",
    "\n",
    "def N_equ_opt(N):\n",
    "    N_equ, Js, Ji = np.load('data/equi_N{}.npy'.format(N))\n",
    "    N_opt, J = np.load('data/globalopt_N{}.npy'.format(N))\n",
    "    return replace_zeros_by_nan(N_equ), replace_zeros_by_nan(N_opt)\n",
    "\n",
    "def N_poa(N):\n",
    "    N_equ,N_opt = N_equ_opt(N)\n",
    "    return N_equ/N_opt\n"
   ]
  },
  {
   "cell_type": "code",
   "execution_count": 17,
   "metadata": {},
   "outputs": [
    {
     "data": {
      "text/plain": [
       "<matplotlib.colorbar.Colorbar at 0x7ff300b9dd68>"
      ]
     },
     "execution_count": 17,
     "metadata": {},
     "output_type": "execute_result"
    },
    {
     "data": {
      "image/png": "[encoded data removed]",
      "text/plain": [
       "<Figure size 864x432 with 3 Axes>"
      ]
     },
     "metadata": {},
     "output_type": "display_data"
    }
   ],
   "source": [
    "fig, axs = plt.subplots(1, 2)\n",
    "fig.set_size_inches((12,6))\n",
    "\n",
    "for i,N in enumerate([10,20]):\n",
    "    #compute_N_poa(N)\n",
    "    data = get_N_poa(N)\n",
    "    ax = plt.subplot(1,2,i+1)\n",
    "    img = plt.imshow(data, origin='lower', vmin=1, vmax=1.10, extent=[0,1,0,1])\n",
    "    plt.xlabel(r'Proportion of susceptible $m_I(0)$')\n",
    "    plt.ylabel(r'Proportion of infected $m_S(0)$')\n",
    "    plt.title(r'Price of anarchy ($N={}$)'.format(N))\n",
    "\n",
    "plt.subplots_adjust(bottom=0.1, right=0.8, top=0.9)\n",
    "cax = plt.axes([0.85, 0.1, 0.075, 0.8])\n",
    "plt.colorbar(cax=cax)\n",
    "#fig.savefig('price_of_anarchy_Nfinite.pdf',bbox_inches='tight')"
   ]
  },
  {
   "cell_type": "code",
   "execution_count": 18,
   "metadata": {},
   "outputs": [
    {
     "name": "stderr",
     "output_type": "stream",
     "text": [
      "/usr/lib/python3/dist-packages/ipykernel_launcher.py:58: RuntimeWarning: divide by zero encountered in true_divide\n"
     ]
    },
    {
     "ename": "FileNotFoundError",
     "evalue": "[Errno 2] No such file or directory: 'data/equi_mf_cost_N100.npy'",
     "output_type": "error",
     "traceback": [
      "\u001b[0;31m---------------------------------------------------------------------------\u001b[0m",
      "\u001b[0;31mFileNotFoundError\u001b[0m                         Traceback (most recent call last)",
      "\u001b[0;32m<ipython-input-18-304134c6f7e7>\u001b[0m in \u001b[0;36m<module>\u001b[0;34m\u001b[0m\n\u001b[1;32m      2\u001b[0m \u001b[0mN\u001b[0m\u001b[0;34m=\u001b[0m\u001b[0;36m100\u001b[0m\u001b[0;34m\u001b[0m\u001b[0;34m\u001b[0m\u001b[0m\n\u001b[1;32m      3\u001b[0m \u001b[0mcompute_mf_poa\u001b[0m\u001b[0;34m(\u001b[0m\u001b[0mN\u001b[0m\u001b[0;34m)\u001b[0m\u001b[0;34m\u001b[0m\u001b[0;34m\u001b[0m\u001b[0m\n\u001b[0;32m----> 4\u001b[0;31m \u001b[0mdata\u001b[0m\u001b[0;34m=\u001b[0m\u001b[0mget_mf_poa\u001b[0m\u001b[0;34m(\u001b[0m\u001b[0mN\u001b[0m\u001b[0;34m)\u001b[0m\u001b[0;34m\u001b[0m\u001b[0;34m\u001b[0m\u001b[0m\n\u001b[0m\u001b[1;32m      5\u001b[0m \u001b[0max\u001b[0m \u001b[0;34m=\u001b[0m \u001b[0mplt\u001b[0m\u001b[0;34m.\u001b[0m\u001b[0msubplot\u001b[0m\u001b[0;34m(\u001b[0m\u001b[0;36m1\u001b[0m\u001b[0;34m,\u001b[0m\u001b[0;36m1\u001b[0m\u001b[0;34m,\u001b[0m\u001b[0;36m1\u001b[0m\u001b[0;34m)\u001b[0m\u001b[0;34m\u001b[0m\u001b[0;34m\u001b[0m\u001b[0m\n\u001b[1;32m      6\u001b[0m \u001b[0;32mfor\u001b[0m \u001b[0mi\u001b[0m \u001b[0;32min\u001b[0m \u001b[0mrange\u001b[0m\u001b[0;34m(\u001b[0m\u001b[0mN\u001b[0m\u001b[0;34m)\u001b[0m\u001b[0;34m:\u001b[0m\u001b[0;34m\u001b[0m\u001b[0;34m\u001b[0m\u001b[0m\n",
      "\u001b[0;32m<ipython-input-16-cbe1e070693b>\u001b[0m in \u001b[0;36mget_mf_poa\u001b[0;34m(N)\u001b[0m\n\u001b[1;32m     60\u001b[0m \u001b[0;34m\u001b[0m\u001b[0m\n\u001b[1;32m     61\u001b[0m \u001b[0;32mdef\u001b[0m \u001b[0mget_mf_poa\u001b[0m\u001b[0;34m(\u001b[0m\u001b[0mN\u001b[0m\u001b[0;34m)\u001b[0m\u001b[0;34m:\u001b[0m\u001b[0;34m\u001b[0m\u001b[0;34m\u001b[0m\u001b[0m\n\u001b[0;32m---> 62\u001b[0;31m     \u001b[0mmat_mfe_cost\u001b[0m \u001b[0;34m=\u001b[0m \u001b[0mnp\u001b[0m\u001b[0;34m.\u001b[0m\u001b[0mload\u001b[0m\u001b[0;34m(\u001b[0m\u001b[0;34m'data/equi_mf_cost_N{}.npy'\u001b[0m\u001b[0;34m.\u001b[0m\u001b[0mformat\u001b[0m\u001b[0;34m(\u001b[0m\u001b[0mN\u001b[0m\u001b[0;34m)\u001b[0m\u001b[0;34m)\u001b[0m\u001b[0;34m\u001b[0m\u001b[0;34m\u001b[0m\u001b[0m\n\u001b[0m\u001b[1;32m     63\u001b[0m     \u001b[0mmat_mfopt_cost\u001b[0m \u001b[0;34m=\u001b[0m \u001b[0mnp\u001b[0m\u001b[0;34m.\u001b[0m\u001b[0mload\u001b[0m\u001b[0;34m(\u001b[0m\u001b[0;34m'data/globalopt_mf_cost_N{}.npy'\u001b[0m\u001b[0;34m.\u001b[0m\u001b[0mformat\u001b[0m\u001b[0;34m(\u001b[0m\u001b[0mN\u001b[0m\u001b[0;34m)\u001b[0m\u001b[0;34m)\u001b[0m\u001b[0;34m\u001b[0m\u001b[0;34m\u001b[0m\u001b[0m\n\u001b[1;32m     64\u001b[0m     \u001b[0;32mreturn\u001b[0m \u001b[0mreplace_zeros_by_nan\u001b[0m\u001b[0;34m(\u001b[0m\u001b[0mmat_mfe_cost\u001b[0m\u001b[0;34m)\u001b[0m\u001b[0;34m/\u001b[0m\u001b[0mreplace_zeros_by_nan\u001b[0m\u001b[0;34m(\u001b[0m\u001b[0mmat_mfopt_cost\u001b[0m\u001b[0;34m)\u001b[0m\u001b[0;34m\u001b[0m\u001b[0;34m\u001b[0m\u001b[0m\n",
      "\u001b[0;32m/usr/local/lib/python3.6/dist-packages/numpy/lib/npyio.py\u001b[0m in \u001b[0;36mload\u001b[0;34m(file, mmap_mode, allow_pickle, fix_imports, encoding)\u001b[0m\n\u001b[1;32m    420\u001b[0m         \u001b[0mown_fid\u001b[0m \u001b[0;34m=\u001b[0m \u001b[0;32mFalse\u001b[0m\u001b[0;34m\u001b[0m\u001b[0;34m\u001b[0m\u001b[0m\n\u001b[1;32m    421\u001b[0m     \u001b[0;32melse\u001b[0m\u001b[0;34m:\u001b[0m\u001b[0;34m\u001b[0m\u001b[0;34m\u001b[0m\u001b[0m\n\u001b[0;32m--> 422\u001b[0;31m         \u001b[0mfid\u001b[0m \u001b[0;34m=\u001b[0m \u001b[0mopen\u001b[0m\u001b[0;34m(\u001b[0m\u001b[0mos_fspath\u001b[0m\u001b[0;34m(\u001b[0m\u001b[0mfile\u001b[0m\u001b[0;34m)\u001b[0m\u001b[0;34m,\u001b[0m \u001b[0;34m\"rb\"\u001b[0m\u001b[0;34m)\u001b[0m\u001b[0;34m\u001b[0m\u001b[0;34m\u001b[0m\u001b[0m\n\u001b[0m\u001b[1;32m    423\u001b[0m         \u001b[0mown_fid\u001b[0m \u001b[0;34m=\u001b[0m \u001b[0;32mTrue\u001b[0m\u001b[0;34m\u001b[0m\u001b[0;34m\u001b[0m\u001b[0m\n\u001b[1;32m    424\u001b[0m \u001b[0;34m\u001b[0m\u001b[0m\n",
      "\u001b[0;31mFileNotFoundError\u001b[0m: [Errno 2] No such file or directory: 'data/equi_mf_cost_N100.npy'"
     ]
    },
    {
     "data": {
      "image/png": "[encoded data removed]",
      "text/plain": [
       "<Figure size 432x288 with 1 Axes>"
      ]
     },
     "metadata": {},
     "output_type": "display_data"
    }
   ],
   "source": [
    "fig, axs = plt.subplots(1, 1)\n",
    "N=100\n",
    "#compute_mf_poa(N)\n",
    "data=get_mf_poa(N)\n",
    "ax = plt.subplot(1,1,1)\n",
    "for i in range(N):\n",
    "    for j in range(N-i):\n",
    "        if np.isnan(data[i,j]): \n",
    "            data[i,j] = 0\n",
    "#img = plt.imshow(data2, origin='lower', vmin=1, extent=[0,1,0,1], interpolation='bilinear')\n",
    "img = plt.imshow(data, origin='lower', vmin=1, extent=[0,1,0,1])\n",
    "plt.xlabel(r'Proportion of infected $m_I(0)$')\n",
    "plt.ylabel(r'Proportion of susceptible $m_S(0)$')\n",
    "plt.subplots_adjust(bottom=0.1, right=0.8, top=0.9)\n",
    "cax = plt.axes([0.85, 0.1, 0.075, 0.8])\n",
    "plt.colorbar(cax=cax)\n",
    "\n",
    "#fig.savefig('price_of_anarchy_infinite.pdf',bbox_inches='tight')"
   ]
  },
  {
   "cell_type": "code",
   "execution_count": null,
   "metadata": {},
   "outputs": [],
   "source": []
  }
 ],
 "metadata": {
  "kernelspec": {
   "display_name": "Python 3",
   "language": "python",
   "name": "python3"
  },
  "language_info": {
   "codemirror_mode": {
    "name": "ipython",
    "version": 3
   },
   "file_extension": ".py",
   "mimetype": "text/x-python",
   "name": "python",
   "nbconvert_exporter": "python",
   "pygments_lexer": "ipython3",
   "version": "3.6.8"
  }
 },
 "nbformat": 4,
 "nbformat_minor": 2
}
