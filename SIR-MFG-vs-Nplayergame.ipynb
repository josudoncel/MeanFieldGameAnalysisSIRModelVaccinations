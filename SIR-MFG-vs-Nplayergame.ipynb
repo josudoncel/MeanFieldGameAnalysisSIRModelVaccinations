{
 "cells": [
  {
   "cell_type": "markdown",
   "metadata": {},
   "source": [
    "# Mean-Field Equilibrium vs N-player Equilibrium in the SIR model with vaccinations"
   ]
  },
  {
   "cell_type": "code",
   "execution_count": 1,
   "metadata": {},
   "outputs": [],
   "source": [
    "import numpy as np\n",
    "import ternary\n",
    "from matplotlib import pyplot, gridspec"
   ]
  },
  {
   "cell_type": "markdown",
   "metadata": {},
   "source": [
    "System parameters, costs and initial conditions"
   ]
  },
  {
   "cell_type": "code",
   "execution_count": 2,
   "metadata": {},
   "outputs": [],
   "source": [
    "# system parameters\n",
    "gamma = 73.0     # infection rate\n",
    "rho = 36.5    # recovery rate\n",
    "vac_min = 0.0   # minimum vaccination rate\n",
    "theta = 10.0  # maximum vaccination rate\n",
    "T = 1           # time horizon\n",
    "\n",
    "c_V = 0.5       # cost per unit time of vaccination\n",
    "c_I = 36.5      # cost per unit time of infection\n",
    "\n",
    "# initial conditions\n",
    "S0 = 0.4        # proportion of susceptible at t=0\n",
    "I0 = 0.4        # proportion of infected at t=0\n"
   ]
  },
  {
   "cell_type": "markdown",
   "metadata": {},
   "source": [
    "The function to compute the mean-field equilibrium"
   ]
  },
  {
   "cell_type": "code",
   "execution_count": 3,
   "metadata": {},
   "outputs": [],
   "source": [
    "def mf_equilibrium():\n",
    "    \n",
    "    thr_mass=0;\n",
    "    thr_pl0=-1;\n",
    "    best_pol=np.zeros(C+1);\n",
    "    count=0\n",
    "    \n",
    "    while (thr_mass != thr_pl0) and (count<500):\n",
    "        \n",
    "        x_S = np.zeros(C+1); x_I = np.zeros(C+1);\n",
    "        policy = np.zeros(C+1);\n",
    "        x_S[0]=S0; x_I[0]=I0;\n",
    "        for i in range(C):\n",
    "            if i<thr_mass:\n",
    "                policy[i]=theta;\n",
    "            else:\n",
    "                policy[i]=vac_min;\n",
    "            x_S[i+1] = x_S[i]+(-gamma*x_I[i]*x_S[i] - policy[i]*x_S[i])/C;\n",
    "            x_I[i+1] = x_I[i]+(gamma*x_I[i]*x_S[i] - rho*x_I[i])/C;    \n",
    "\n",
    "        for count in range(C):\n",
    "            t_ = C - count ;\n",
    "            if c_V - vs[t_] < 0:\n",
    "                best_pol[t_-1]=theta;\n",
    "                p_s_s=1 - 1.*gamma*x_I[t_-1]/C - 1.*theta/C;\n",
    "                p_s_i=1.*gamma*x_I[t_-1]/C; \n",
    "                vs[t_-1]= theta * c_V /C + p_s_s * vs[t_] + p_s_i * vi[t_];\n",
    "            else:\n",
    "                best_pol[t_-1]=vac_min;\n",
    "                p_s_s=1 - 1.*gamma*x_I[t_-1]/C - vac_min/C;\n",
    "                p_s_i=gamma*x_I[t_-1]/C; \n",
    "                vs[t_-1]= vac_min * c_V/C + p_s_s * vs[t_] + p_s_i * vi[t_];   \n",
    "            p_i_i=1-rho/C; \n",
    "            vi[t_-1] = c_I/C + p_i_i * vi[t_];   \n",
    "         \n",
    "        thr=0;\n",
    "        for i in range(C+1):\n",
    "            if vs[i]<c_V:\n",
    "                thr_pl0=i;\n",
    "                break;\n",
    "                \n",
    "        count+=1\n",
    "        \n",
    "        if thr_mass > thr_pl0:\n",
    "            thr_mass = thr_mass - 1;\n",
    "        if thr_mass < thr_pl0:\n",
    "            thr_mass = thr_pl0 + 1;  \n",
    "    \n",
    "    return thr_pl0, vs, vi;"
   ]
  },
  {
   "cell_type": "markdown",
   "metadata": {},
   "source": [
    "We compute the mean-field equilibrium when the initial state is (0.4,0.4):"
   ]
  },
  {
   "cell_type": "code",
   "execution_count": 4,
   "metadata": {},
   "outputs": [
    {
     "name": "stdout",
     "output_type": "stream",
     "text": [
      "Cost of the mean-field equilibrium when the initial state is  0.4 0.4\n",
      "0.6907513845221682\n"
     ]
    }
   ],
   "source": [
    "C=10000;\n",
    "x_S = np.zeros(C+1); x_I = np.zeros(C+1)\n",
    "vs = np.zeros(C+1); vi = np.zeros(C+1)\n",
    "t_critical, vs, vi = mf_equilibrium();\n",
    "print(\"Cost of the mean-field equilibrium when the initial state is \", S0,I0)\n",
    "cost_mfe=vs[0]*S0+vi[0]*I0\n",
    "print(cost_mfe)"
   ]
  },
  {
   "cell_type": "markdown",
   "metadata": {},
   "source": [
    "Functions to compute the equilibrium of the N players game"
   ]
  },
  {
   "cell_type": "code",
   "execution_count": 5,
   "metadata": {},
   "outputs": [],
   "source": [
    "def trans_prob(m_s, m_i, m_pi, pl0_pi, N, C):\n",
    "    p_x = np.zeros(3)\n",
    "    p_m = np.zeros(3)\n",
    "    # transition probabilities of Player 0\n",
    "    p_x[0] = 1. * gamma / C * m_i / N\n",
    "    p_x[1] = 1. * rho / C\n",
    "    p_x[2] = 1. * pl0_pi / C\n",
    "    # transition probabilities of the mass\n",
    "    p_m[0] = 1. * gamma * N / C * m_s / N * m_i / N\n",
    "    p_m[1] = 1. * m_i / N * rho * N / C\n",
    "    p_m[2] = 1. * m_s / N * m_pi * N / C\n",
    "\n",
    "    return p_x, p_m\n",
    "\n",
    "\n",
    "def best_response_n_players(m_pol):\n",
    "\n",
    "    if C < N * max(theta, gamma, rho): raise Exception('Higher value of C required')\n",
    "\n",
    "    # checking that S0*N and I0*N are integers\n",
    "    if not (1. * S0 * N).is_integer():\n",
    "        raise Exception('S0*N is not integer')\n",
    "\n",
    "    if not (1. * I0 * N).is_integer():\n",
    "        raise Exception('I0*N is not integer')\n",
    "\n",
    "    # Pl0 cost at susceptible and infected state: Js and Ji\n",
    "    Js = np.zeros((C + 1, N + 1, N + 1))\n",
    "    Ji = np.zeros((C + 1, N + 1, N + 1))\n",
    "    # Best response of Player 0\n",
    "    BR_pol = np.zeros((C + 1, N + 1, N + 1))\n",
    "\n",
    "    for t in range(C, 0, -1):\n",
    "        for ms in range(0, N + 1):\n",
    "            for mi in range(0, N - ms + 1):\n",
    "                if c_V - Js[t, ms, mi] < 0:\n",
    "                    BR_pol[t - 1, ms, mi] = theta\n",
    "                else:\n",
    "                    BR_pol[t - 1, ms, mi] = 0\n",
    "                px, pm = trans_prob(ms, mi, m_pol[t - 1, ms, mi], BR_pol[t - 1, ms, mi], N, C)\n",
    "                Js[t - 1, ms, mi] = (\n",
    "                    c_V * BR_pol[t - 1, ms, mi] / C +                               # pl0 instantaneous cost at susceptible state\n",
    "                    (px[0] * Ji[t, ms, mi] if mi > 0 else 0) +                      # pl0 infection\n",
    "                    (px[2] * 0) +                                                   # pl0 vaccination: the cost when it is recovered is 0\n",
    "                    (pm[0] * Js[t, ms - 1, mi + 1] if ms > 0 else 0) +              # infection of mass\n",
    "                    (pm[1] * Js[t, ms, mi - 1] if mi > 0 else 0) +                  # recovery of mass\n",
    "                    (pm[2] * Js[t, ms - 1, mi] if ms > 0 else 0) +                  # vaccination of mass\n",
    "                    (1 - px[0] - px[2] - pm[0] - pm[1] - pm[2]) * Js[t, ms, mi])    # no transition\n",
    "                Ji[t - 1, ms, mi] = (\n",
    "                    c_I / C +                                               # pl0 instantaneous cost at infected state\n",
    "                    (px[1] * 0) +                                           # pl0 recovery: the cost when it is recovered is 0\n",
    "                    (pm[0] * Ji[t, ms - 1, mi + 1] if ms > 0 else 0) +      # infection of mass\n",
    "                    (pm[1] * Ji[t, ms, mi - 1] if mi > 0 else 0) +          # recovery of mass\n",
    "                    (pm[2] * Ji[t, ms - 1, mi] if ms > 0 else 0) +          # vaccination of mass\n",
    "                    (1 - px[1] - pm[0] - pm[1] - pm[2]) * Ji[t, ms, mi])    # no transition\n",
    "    return BR_pol, Js, Ji\n",
    "\n",
    "\n",
    "def equilibrium_n_players():\n",
    "    # the policy of the mass is never vaccinate\n",
    "    m_pol = np.zeros((C + 1, N + 1, N + 1))\n",
    "    # the policy of the mass is to always vaccinate with max rate\n",
    "    # m_pol=theta*np.ones((C+1,N+1,N+1));\n",
    "\n",
    "    BR_pol, Js, Ji = best_response_n_players(m_pol)\n",
    "    # print(BR_pol[0])\n",
    "\n",
    "    while 0 < 1:\n",
    "        if np.allclose(BR_pol, m_pol):\n",
    "            print(\"Equilibrium found. Equilibrium policy at t=0:\")\n",
    "            print(BR_pol[0])\n",
    "            break\n",
    "        else:\n",
    "            print(\"BR_pol and m_pol do not coindice. Updating m_pol...\")\n",
    "            #print(\"The optimal cost in S state when S0 and I0 are 0.4:\")\n",
    "            #print(Js[0, int(S0 * N), int(I0 * N)])\n",
    "            #print(np.nonzero(BR_pol-m_pol))\n",
    "            # print(BR_pol[0])\n",
    "            m_pol = BR_pol\n",
    "            BR_pol, Js, Ji = best_response_n_players(m_pol)\n",
    "    \n",
    "    return BR_pol, Js, Ji"
   ]
  },
  {
   "cell_type": "markdown",
   "metadata": {},
   "source": [
    "We compute the N-player equilibrium when N=5:"
   ]
  },
  {
   "cell_type": "code",
   "execution_count": 6,
   "metadata": {
    "scrolled": true
   },
   "outputs": [
    {
     "name": "stdout",
     "output_type": "stream",
     "text": [
      "BR_pol and m_pol do not coindice. Updating m_pol...\n",
      "Equilibrium found. Equilibrium policy at t=0:\n",
      "[[ 0.  0.  0. 10. 10. 10.]\n",
      " [ 0.  0. 10. 10. 10.  0.]\n",
      " [ 0.  0. 10. 10.  0.  0.]\n",
      " [ 0.  0. 10.  0.  0.  0.]\n",
      " [ 0.  0.  0.  0.  0.  0.]\n",
      " [ 0.  0.  0.  0.  0.  0.]]\n",
      "Cost of the 5-player equilibrium when the initial state is  0.4 0.4\n",
      "0.6345379909054636\n"
     ]
    }
   ],
   "source": [
    "N = 5            # number of players\n",
    "C = T * N * 100  # number of the intervals of the time grid\n",
    "eq_pol = np.zeros((C + 1, N + 1, N + 1))\n",
    "cost_s = np.zeros((C + 1, N + 1, N + 1))\n",
    "cost_i = np.zeros((C + 1, N + 1, N + 1))\n",
    "eq_pol_n5, cost_s_n5, cost_i_n5 = equilibrium_n_players()\n",
    "print(\"Cost of the 5-player equilibrium when the initial state is \",S0,I0)\n",
    "print(cost_s_n5[0,int(S0*N),int(I0*N)]*S0+cost_i_n5[0,int(S0*N),int(I0*N)]*I0)"
   ]
  },
  {
   "cell_type": "markdown",
   "metadata": {},
   "source": [
    "We compute the N-player equilibrium when N=10:"
   ]
  },
  {
   "cell_type": "code",
   "execution_count": null,
   "metadata": {
    "scrolled": true
   },
   "outputs": [
    {
     "name": "stdout",
     "output_type": "stream",
     "text": [
      "BR_pol and m_pol do not coindice. Updating m_pol...\n",
      "BR_pol and m_pol do not coindice. Updating m_pol...\n",
      "BR_pol and m_pol do not coindice. Updating m_pol...\n",
      "BR_pol and m_pol do not coindice. Updating m_pol...\n",
      "BR_pol and m_pol do not coindice. Updating m_pol...\n",
      "BR_pol and m_pol do not coindice. Updating m_pol...\n",
      "BR_pol and m_pol do not coindice. Updating m_pol...\n",
      "BR_pol and m_pol do not coindice. Updating m_pol...\n",
      "BR_pol and m_pol do not coindice. Updating m_pol...\n",
      "BR_pol and m_pol do not coindice. Updating m_pol...\n",
      "BR_pol and m_pol do not coindice. Updating m_pol...\n",
      "BR_pol and m_pol do not coindice. Updating m_pol...\n",
      "BR_pol and m_pol do not coindice. Updating m_pol...\n",
      "BR_pol and m_pol do not coindice. Updating m_pol...\n",
      "BR_pol and m_pol do not coindice. Updating m_pol...\n",
      "BR_pol and m_pol do not coindice. Updating m_pol...\n",
      "BR_pol and m_pol do not coindice. Updating m_pol...\n",
      "BR_pol and m_pol do not coindice. Updating m_pol...\n",
      "BR_pol and m_pol do not coindice. Updating m_pol...\n",
      "BR_pol and m_pol do not coindice. Updating m_pol...\n",
      "BR_pol and m_pol do not coindice. Updating m_pol...\n",
      "BR_pol and m_pol do not coindice. Updating m_pol...\n",
      "BR_pol and m_pol do not coindice. Updating m_pol...\n",
      "BR_pol and m_pol do not coindice. Updating m_pol...\n",
      "BR_pol and m_pol do not coindice. Updating m_pol...\n",
      "BR_pol and m_pol do not coindice. Updating m_pol...\n",
      "BR_pol and m_pol do not coindice. Updating m_pol...\n",
      "Equilibrium found. Equilibrium policy at t=0:\n",
      "[[ 0.  0.  0.  0. 10. 10. 10. 10. 10. 10. 10.]\n",
      " [ 0.  0.  0.  0. 10. 10. 10. 10. 10. 10.  0.]\n",
      " [ 0.  0.  0.  0. 10. 10. 10. 10. 10.  0.  0.]\n",
      " [ 0.  0.  0. 10. 10. 10. 10. 10.  0.  0.  0.]\n",
      " [ 0.  0.  0. 10. 10. 10. 10.  0.  0.  0.  0.]\n",
      " [ 0.  0.  0. 10. 10. 10.  0.  0.  0.  0.  0.]\n",
      " [ 0.  0. 10. 10. 10.  0.  0.  0.  0.  0.  0.]\n",
      " [ 0.  0. 10. 10.  0.  0.  0.  0.  0.  0.  0.]\n",
      " [ 0.  0. 10.  0.  0.  0.  0.  0.  0.  0.  0.]\n",
      " [ 0.  0.  0.  0.  0.  0.  0.  0.  0.  0.  0.]\n",
      " [ 0.  0.  0.  0.  0.  0.  0.  0.  0.  0.  0.]]\n",
      "Cost of the 10-players equilibrium when the initial state is  0.4 0.4\n",
      "0.6566138782370241\n"
     ]
    }
   ],
   "source": [
    "N = 10           # number of players\n",
    "C = T * N * 100  # number of the intervals of the time grid\n",
    "eq_pol = np.zeros((C + 1, N + 1, N + 1))\n",
    "cost_s = np.zeros((C + 1, N + 1, N + 1))\n",
    "cost_i = np.zeros((C + 1, N + 1, N + 1))\n",
    "eq_pol_n10, cost_s_n10, cost_i_n10 = equilibrium_n_players()\n",
    "print(\"Cost of the 10-players equilibrium when the initial state is \",S0,I0)\n",
    "cost_eq_n10=cost_s_n10[0,int(S0*N),int(I0*N)]*S0+cost_i_n10[0,int(S0*N),int(I0*N)]*I0\n",
    "print(cost_eq_n10)"
   ]
  },
  {
   "cell_type": "markdown",
   "metadata": {},
   "source": [
    "We compute the N-player equilibrium when N=20:"
   ]
  },
  {
   "cell_type": "code",
   "execution_count": null,
   "metadata": {},
   "outputs": [
    {
     "name": "stdout",
     "output_type": "stream",
     "text": [
      "BR_pol and m_pol do not coindice. Updating m_pol...\n",
      "BR_pol and m_pol do not coindice. Updating m_pol...\n",
      "BR_pol and m_pol do not coindice. Updating m_pol...\n",
      "BR_pol and m_pol do not coindice. Updating m_pol...\n",
      "BR_pol and m_pol do not coindice. Updating m_pol...\n",
      "BR_pol and m_pol do not coindice. Updating m_pol...\n",
      "BR_pol and m_pol do not coindice. Updating m_pol...\n",
      "BR_pol and m_pol do not coindice. Updating m_pol...\n",
      "BR_pol and m_pol do not coindice. Updating m_pol...\n",
      "BR_pol and m_pol do not coindice. Updating m_pol...\n",
      "BR_pol and m_pol do not coindice. Updating m_pol...\n",
      "BR_pol and m_pol do not coindice. Updating m_pol...\n",
      "BR_pol and m_pol do not coindice. Updating m_pol...\n",
      "BR_pol and m_pol do not coindice. Updating m_pol...\n",
      "BR_pol and m_pol do not coindice. Updating m_pol...\n",
      "BR_pol and m_pol do not coindice. Updating m_pol...\n",
      "BR_pol and m_pol do not coindice. Updating m_pol...\n",
      "BR_pol and m_pol do not coindice. Updating m_pol...\n",
      "BR_pol and m_pol do not coindice. Updating m_pol...\n",
      "BR_pol and m_pol do not coindice. Updating m_pol...\n",
      "BR_pol and m_pol do not coindice. Updating m_pol...\n",
      "BR_pol and m_pol do not coindice. Updating m_pol...\n",
      "BR_pol and m_pol do not coindice. Updating m_pol...\n",
      "BR_pol and m_pol do not coindice. Updating m_pol...\n",
      "BR_pol and m_pol do not coindice. Updating m_pol...\n",
      "BR_pol and m_pol do not coindice. Updating m_pol...\n",
      "BR_pol and m_pol do not coindice. Updating m_pol...\n",
      "BR_pol and m_pol do not coindice. Updating m_pol...\n",
      "BR_pol and m_pol do not coindice. Updating m_pol...\n",
      "BR_pol and m_pol do not coindice. Updating m_pol...\n",
      "BR_pol and m_pol do not coindice. Updating m_pol...\n",
      "BR_pol and m_pol do not coindice. Updating m_pol...\n",
      "BR_pol and m_pol do not coindice. Updating m_pol...\n",
      "BR_pol and m_pol do not coindice. Updating m_pol...\n",
      "BR_pol and m_pol do not coindice. Updating m_pol...\n",
      "BR_pol and m_pol do not coindice. Updating m_pol...\n",
      "BR_pol and m_pol do not coindice. Updating m_pol...\n",
      "BR_pol and m_pol do not coindice. Updating m_pol...\n",
      "BR_pol and m_pol do not coindice. Updating m_pol...\n",
      "BR_pol and m_pol do not coindice. Updating m_pol...\n",
      "BR_pol and m_pol do not coindice. Updating m_pol...\n",
      "BR_pol and m_pol do not coindice. Updating m_pol...\n",
      "BR_pol and m_pol do not coindice. Updating m_pol...\n",
      "BR_pol and m_pol do not coindice. Updating m_pol...\n"
     ]
    }
   ],
   "source": [
    "N = 20            # number of players\n",
    "C = T * N * 100  # number of the intervals of the time grid\n",
    "eq_pol = np.zeros((C + 1, N + 1, N + 1))\n",
    "cost_s = np.zeros((C + 1, N + 1, N + 1))\n",
    "cost_i = np.zeros((C + 1, N + 1, N + 1))\n",
    "eq_pol_n20, cost_s_n20, cost_i_n20 = equilibrium_n_players()\n",
    "print(\"Cost of the 20-players equilibrium when the initial state is \",S0,I0)\n",
    "cost_eq_n20=cost_s_n20[0,int(S0*N),int(I0*N)]*S0+cost_i_n20[0,int(S0*N),int(I0*N)]*I0;\n",
    "print(cost_eq_n20)"
   ]
  },
  {
   "cell_type": "markdown",
   "metadata": {},
   "source": [
    "We compute the N-player equilibrium when N=30:"
   ]
  },
  {
   "cell_type": "code",
   "execution_count": null,
   "metadata": {},
   "outputs": [],
   "source": [
    "N = 30            # number of players\n",
    "C = T * N * 100  # number of the intervals of the time grid\n",
    "eq_pol = np.zeros((C + 1, N + 1, N + 1))\n",
    "cost_s = np.zeros((C + 1, N + 1, N + 1))\n",
    "cost_i = np.zeros((C + 1, N + 1, N + 1))\n",
    "eq_pol_n30, cost_s_n30, cost_i_n30 = equilibrium_n_players()\n",
    "print(\"Cost of the 30-players equilibrium when the initial state is \",S0,I0)\n",
    "cost_eq_n30=cost_s_n30[0,int(S0*N),int(I0*N)]*S0+cost_i_n30[0,int(S0*N),int(I0*N)]*I0\n",
    "print(cost_eq_n30)"
   ]
  },
  {
   "cell_type": "markdown",
   "metadata": {},
   "source": [
    "The average cost of the Nash Equilibrium when N=30 and the initial state is (0.4,0.4) is 0.6737.\n",
    "\n",
    "We compute the N-player equilibrium when N=40:"
   ]
  },
  {
   "cell_type": "code",
   "execution_count": null,
   "metadata": {},
   "outputs": [],
   "source": [
    "N = 40            # number of players\n",
    "C = T * N * 100  # number of the intervals of the time grid\n",
    "eq_pol = np.zeros((C + 1, N + 1, N + 1))\n",
    "cost_s = np.zeros((C + 1, N + 1, N + 1))\n",
    "cost_i = np.zeros((C + 1, N + 1, N + 1))\n",
    "eq_pol_n40, cost_s_n40, cost_i_n40 = equilibrium_n_players()\n",
    "print(\"Cost of the 40-players equilibrium when the initial state is \",S0,I0)\n",
    "cost_eq_n40=cost_s_n40[0,int(S0*N),int(I0*N)]*S0+cost_i_n40[0,int(S0*N),int(I0*N)]*I0\n",
    "print(cost_eq_n40)"
   ]
  },
  {
   "cell_type": "markdown",
   "metadata": {},
   "source": [
    "The average cost of the Nash Equilibrium when N=40 and the initial state is (0.4,0.4) is 0.6759.\n",
    "\n",
    "We compute the N-player equilibrium when N=50:"
   ]
  },
  {
   "cell_type": "code",
   "execution_count": null,
   "metadata": {},
   "outputs": [],
   "source": [
    "N = 50            # number of players\n",
    "C = T * N * 100  # number of the intervals of the time grid\n",
    "eq_pol = np.zeros((C + 1, N + 1, N + 1))\n",
    "cost_s = np.zeros((C + 1, N + 1, N + 1))\n",
    "cost_i = np.zeros((C + 1, N + 1, N + 1))\n",
    "eq_pol_n50, cost_s_n50, cost_i_n50 = equilibrium_n_players()\n",
    "print(\"Cost of the 50-players equilibrium when the initial state is \",S0,I0)\n",
    "cost_eq_n50=cost_s_n50[0,int(S0*N),int(I0*N)]*S0+cost_i_n50[0,int(S0*N),int(I0*N)]*I0\n",
    "print(cost_eq_n50)"
   ]
  },
  {
   "cell_type": "markdown",
   "metadata": {},
   "source": [
    "The average cost of the Nash Equilibrium when N=50 and the initial state is (0.4,0.4) is 0.6772."
   ]
  },
  {
   "cell_type": "markdown",
   "metadata": {},
   "source": [
    "# Plot of the MFE and of N-player equilibrium (N=5,10,20,30,40,50)\n",
    "\n",
    "Note: the value b=0.26 corresponds to the best fit of the type a+b/N to the mean field equibrium for the following parameters: gamma = 73.0, rho = 36.5, vac_min = 0.0, theta = 10.0, T = 1, c_V = 0.5, c_I = 36.5, S0 = 0.4, I0 = 0.4. For other parameters, the value of b must be recalculated"
   ]
  },
  {
   "cell_type": "code",
   "execution_count": null,
   "metadata": {
    "scrolled": true
   },
   "outputs": [],
   "source": [
    "b=0.26 \n",
    "\n",
    "import matplotlib.pyplot as plt\n",
    "%matplotlib inline\n",
    "N = np.array([5, 10, 20, 30, 40, 50])\n",
    "cost = np.array([cost_eq_n5, cost_eq_n10, cost_eq_n20, cost_eq_n30, cost_eq_n40, cost_eq_n50])\n",
    "mfg = cost_mfe\n",
    "plt.plot(N,cost)\n",
    "plt.plot(N,np.ones(6)*cost_mfe,'--')\n",
    "   \n",
    "plt.plot(N,cost_mfe-b/N,'-.')\n",
    "plt.legend(['cost of equilibrium for $N$ players','mf cost','0.6824-0.26/N'])\n",
    "plt.xlabel('N')"
   ]
  },
  {
   "cell_type": "code",
   "execution_count": null,
   "metadata": {},
   "outputs": [],
   "source": []
  }
 ],
 "metadata": {
  "kernelspec": {
   "display_name": "Python 3",
   "language": "python",
   "name": "python3"
  },
  "language_info": {
   "codemirror_mode": {
    "name": "ipython",
    "version": 3
   },
   "file_extension": ".py",
   "mimetype": "text/x-python",
   "name": "python",
   "nbconvert_exporter": "python",
   "pygments_lexer": "ipython3",
   "version": "3.6.8"
  }
 },
 "nbformat": 4,
 "nbformat_minor": 2
}
